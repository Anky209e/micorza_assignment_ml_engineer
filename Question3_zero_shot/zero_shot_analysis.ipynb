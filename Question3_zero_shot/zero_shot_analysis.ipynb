{
 "cells": [
  {
   "cell_type": "markdown",
   "id": "6253449b",
   "metadata": {},
   "source": [
    "# Zero-Shot Classification with LLMs\n",
    "We use `facebook/bart-large-mnli` to classify unseen labels."
   ]
  },
  {
   "cell_type": "code",
   "execution_count": 1,
   "id": "2fdde3d2",
   "metadata": {},
   "outputs": [
    {
     "name": "stderr",
     "output_type": "stream",
     "text": [
      "C:\\Users\\ANKIT\\AppData\\Roaming\\Python\\Python312\\site-packages\\tqdm\\auto.py:21: TqdmWarning: IProgress not found. Please update jupyter and ipywidgets. See https://ipywidgets.readthedocs.io/en/stable/user_install.html\n",
      "  from .autonotebook import tqdm as notebook_tqdm\n"
     ]
    }
   ],
   "source": [
    "from transformers import pipeline"
   ]
  },
  {
   "cell_type": "code",
   "execution_count": 2,
   "id": "fd63eb4f",
   "metadata": {},
   "outputs": [
    {
     "name": "stderr",
     "output_type": "stream",
     "text": [
      "C:\\Users\\ANKIT\\AppData\\Roaming\\Python\\Python312\\site-packages\\huggingface_hub\\file_download.py:147: UserWarning: `huggingface_hub` cache-system uses symlinks by default to efficiently store duplicated files but your machine does not support them in C:\\Users\\ANKIT\\.cache\\huggingface\\hub\\models--facebook--bart-large-mnli. Caching files will still work but in a degraded version that might require more space on your disk. This warning can be disabled by setting the `HF_HUB_DISABLE_SYMLINKS_WARNING` environment variable. For more details, see https://huggingface.co/docs/huggingface_hub/how-to-cache#limitations.\n",
      "To support symlinks on Windows, you either need to activate Developer Mode or to run Python as an administrator. In order to activate developer mode, see this article: https://docs.microsoft.com/en-us/windows/apps/get-started/enable-your-device-for-development\n",
      "  warnings.warn(message)\n"
     ]
    },
    {
     "name": "stdout",
     "output_type": "stream",
     "text": [
      "WARNING:tensorflow:From C:\\Users\\ANKIT\\AppData\\Roaming\\Python\\Python312\\site-packages\\tf_keras\\src\\losses.py:2976: The name tf.losses.sparse_softmax_cross_entropy is deprecated. Please use tf.compat.v1.losses.sparse_softmax_cross_entropy instead.\n",
      "\n"
     ]
    },
    {
     "name": "stderr",
     "output_type": "stream",
     "text": [
      "Hardware accelerator e.g. GPU is available in the environment, but no `device` argument is passed to the `Pipeline` object. Model will be on CPU.\n"
     ]
    }
   ],
   "source": [
    "classifier = pipeline('zero-shot-classification', model='facebook/bart-large-mnli')"
   ]
  },
  {
   "cell_type": "markdown",
   "id": "02aa7ca3",
   "metadata": {},
   "source": [
    "## Examples "
   ]
  },
  {
   "cell_type": "code",
   "execution_count": 3,
   "id": "1d90c14c",
   "metadata": {},
   "outputs": [],
   "source": [
    "sequence = \"The cinematography and music were exceptional.\"\n",
    "labels = [\"positive review\", \"negative review\", \"neutral\"]"
   ]
  },
  {
   "cell_type": "code",
   "execution_count": 4,
   "id": "81ce48e5",
   "metadata": {},
   "outputs": [
    {
     "name": "stdout",
     "output_type": "stream",
     "text": [
      "{'sequence': 'The cinematography and music were exceptional.', 'labels': ['positive review', 'negative review', 'neutral'], 'scores': [0.991895318031311, 0.005155220627784729, 0.0029494627378880978]}\n"
     ]
    }
   ],
   "source": [
    "result = classifier(sequence, labels)\n",
    "print(result)"
   ]
  },
  {
   "cell_type": "code",
   "execution_count": 5,
   "id": "f7cdb086",
   "metadata": {},
   "outputs": [
    {
     "name": "stdout",
     "output_type": "stream",
     "text": [
      "{'sequence': 'I have a problem with my iphone that needs to be resolved asap!', 'labels': ['urgent', 'phone', 'computer', 'not urgent', 'tablet'], 'scores': [0.5227574110031128, 0.4581409692764282, 0.014264550060033798, 0.0026850143913179636, 0.0021520620211958885]}\n"
     ]
    }
   ],
   "source": [
    "sequence = \"I have a problem with my iphone that needs to be resolved asap!\"\n",
    "labels = [\"urgent\", \"not urgent\", \"phone\", \"tablet\", \"computer\"]\n",
    "result = classifier(sequence, labels)\n",
    "print(result)"
   ]
  },
  {
   "cell_type": "code",
   "execution_count": 6,
   "id": "881fdff2",
   "metadata": {},
   "outputs": [
    {
     "name": "stdout",
     "output_type": "stream",
     "text": [
      "{'sequence': 'Dune is the best movie ever.', 'labels': ['Cinema', 'tablet', 'Art', 'computer', 'Music'], 'scores': [0.6877415180206299, 0.1537240743637085, 0.08487024903297424, 0.04557798057794571, 0.028086207807064056]}\n"
     ]
    }
   ],
   "source": [
    "sequence = \"Dune is the best movie ever.\"\n",
    "labels = [\"Cinema\", \"Art\", \"Music\", \"tablet\", \"computer\"]\n",
    "result = classifier(sequence, labels)\n",
    "print(result)"
   ]
  },
  {
   "cell_type": "code",
   "execution_count": 7,
   "id": "ba10379f",
   "metadata": {},
   "outputs": [
    {
     "name": "stdout",
     "output_type": "stream",
     "text": [
      "{'sequence': 'Hugging Face is awesome for making all of these state of the art models available!', 'labels': ['Positive', 'Neutral', 'Negative'], 'scores': [0.8552644848823547, 0.08157136291265488, 0.06316415965557098]}\n"
     ]
    }
   ],
   "source": [
    "sequence = \"Hugging Face is awesome for making all of these state of the art models available!\"\n",
    "labels = [\"Positive\", \"Negative\", \"Neutral\"]\n",
    "result = classifier(sequence, labels)\n",
    "print(result)"
   ]
  }
 ],
 "metadata": {
  "kernelspec": {
   "display_name": "Python 3",
   "language": "python",
   "name": "python3"
  },
  "language_info": {
   "codemirror_mode": {
    "name": "ipython",
    "version": 3
   },
   "file_extension": ".py",
   "mimetype": "text/x-python",
   "name": "python",
   "nbconvert_exporter": "python",
   "pygments_lexer": "ipython3",
   "version": "3.12.4"
  }
 },
 "nbformat": 4,
 "nbformat_minor": 5
}
