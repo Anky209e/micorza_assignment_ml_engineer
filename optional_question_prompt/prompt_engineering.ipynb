{
 "cells": [
  {
   "cell_type": "markdown",
   "id": "6dbf8b1c",
   "metadata": {},
   "source": [
    "# Prompt to Extract required Information"
   ]
  },
  {
   "cell_type": "code",
   "execution_count": null,
   "id": "940f4f5c",
   "metadata": {},
   "outputs": [],
   "source": [
    "from transformers import pipeline\n",
    "import torch"
   ]
  },
  {
   "cell_type": "markdown",
   "id": "ec825c9f",
   "metadata": {},
   "source": [
    "### We can use this prompt to get the required information from the paragraphs."
   ]
  },
  {
   "cell_type": "code",
   "execution_count": null,
   "id": "3f7f76a6",
   "metadata": {},
   "outputs": [],
   "source": [
    "def extract_info(text,pipeline):\n",
    "        prompt = f\"\"\"\n",
    "You are an information extraction system. Extract structured information from unstructured text.\n",
    "\n",
    "Fields to extract:\n",
    "- Name: Full name of a person or organization.\n",
    "- Date: Specific date in YYYY-MM-DD format.\n",
    "- Location: City, state, or country mentioned in the text.\n",
    "\n",
    "If a field is not found, return \"N/A\".\n",
    "\n",
    "Output the results in this JSON format:\n",
    "{{\n",
    "  \"Name\": \"...\",\n",
    "  \"Date\": \"...\",\n",
    "  \"Location\": \"...\"\n",
    "}}\n",
    "\n",
    "---\n",
    "\n",
    "Example 1:\n",
    "\n",
    "Text:\n",
    "\"On August 14, 2022, Elon Musk visited Berlin to attend a technology conference.\"\n",
    "\n",
    "Output:\n",
    "{{\n",
    "  \"Name\": \"Elon Musk\",\n",
    "  \"Date\": \"2022-08-14\",\n",
    "  \"Location\": \"Berlin\"\n",
    "}}\n",
    "\n",
    "---\n",
    "\n",
    "Example 2:\n",
    "\n",
    "Text:\n",
    "\"The annual summit was held in Tokyo with leaders from across Asia.\"\n",
    "\n",
    "Output:\n",
    "{{\n",
    "  \"Name\": \"N/A\",\n",
    "  \"Date\": \"N/A\",\n",
    "  \"Location\": \"Tokyo\"\n",
    "}}\n",
    "\n",
    "---\n",
    "\n",
    "Now extract information from the following text:\n",
    "\n",
    "Text:\n",
    "\\\"\\\"\\\"{text}\\\"\\\"\\\"\n",
    "\n",
    "Output:\n",
    "\"\"\"\n",
    "        outputs = pipeline(prompt, max_new_tokens=10)\n",
    "        for output in outputs:\n",
    "            print(f\"Result: {output['generated_text']}\")"
   ]
  },
  {
   "cell_type": "code",
   "execution_count": null,
   "id": "e49ecd99",
   "metadata": {},
   "outputs": [],
   "source": [
    "pipe = pipeline(\"text-generation\", model=\"mistralai/Mistral-Nemo-Instruct-2407\")"
   ]
  },
  {
   "cell_type": "code",
   "execution_count": null,
   "id": "0a4c021e",
   "metadata": {},
   "outputs": [],
   "source": [
    "example_1 = \"\"\"On March 9, 2021, \n",
    "                    Microsoft announced a new data center opening in Dublin. \n",
    "                    Satya Nadella spoke about the company’s expansion in Europe.\"\"\"\n",
    "result = extract_info(example_1,pipeline)\n",
    "print(result)"
   ]
  },
  {
   "cell_type": "code",
   "execution_count": null,
   "id": "df585b7a",
   "metadata": {},
   "outputs": [],
   "source": [
    "example_2 = \"\"\"During the 2016 \n",
    "                Summer Olympics held in Rio de Janeiro, \n",
    "                Usain Bolt won another gold medal, cementing his legacy as a sprinting legend\"\"\"\n",
    "result = extract_info(example_2,pipeline)\n",
    "print(result)"
   ]
  },
  {
   "cell_type": "code",
   "execution_count": null,
   "id": "c567d53e",
   "metadata": {},
   "outputs": [],
   "source": [
    "example_3 = \"\"\"Greta Thunberg addressed the climate summit in New York on \n",
    "                September 23, 2019, calling for urgent global action\"\"\"\n",
    "result = extract_info(example_3,pipeline)\n",
    "print(result)"
   ]
  }
 ],
 "metadata": {
  "kernelspec": {
   "display_name": "Python 3",
   "language": "python",
   "name": "python3"
  },
  "language_info": {
   "codemirror_mode": {
    "name": "ipython",
    "version": 3
   },
   "file_extension": ".py",
   "mimetype": "text/x-python",
   "name": "python",
   "nbconvert_exporter": "python",
   "pygments_lexer": "ipython3",
   "version": "3.12.4"
  }
 },
 "nbformat": 4,
 "nbformat_minor": 5
}
