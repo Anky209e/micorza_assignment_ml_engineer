{
 "cells": [
  {
   "cell_type": "markdown",
   "id": "8fb91ed2",
   "metadata": {},
   "source": [
    "# Car Bounding Boxes"
   ]
  },
  {
   "cell_type": "markdown",
   "id": "27cf303b",
   "metadata": {},
   "source": [
    "\n",
    "You are given bounding boxes that represent detected cars in an image.\n",
    "The task is to:\n",
    "- Divide the image into a grid of `N x N`.\n",
    "- Find the center of each bounding box.\n",
    "- Assign it to the appropriate cell based on its center location.\n",
    "- Return a matrix showing how many cars fall into each grid cell."
   ]
  },
  {
   "cell_type": "markdown",
   "id": "a16de22c",
   "metadata": {},
   "source": [
    "### Sample Input"
   ]
  },
  {
   "cell_type": "code",
   "execution_count": 1,
   "id": "3aaedd17",
   "metadata": {},
   "outputs": [],
   "source": [
    "boxes = [(10, 20, 50, 60), (110, 120, 150, 160), (210, 220, 250, 260), (310, 320, 350, 360)]\n",
    "img_width = 400\n",
    "img_height = 400\n",
    "n_rows = 4\n",
    "n_cols = 4"
   ]
  },
  {
   "cell_type": "code",
   "execution_count": null,
   "id": "f27fe9b0",
   "metadata": {},
   "outputs": [],
   "source": [
    "def assign_boxes_to_grid(boxes, img_width, img_height, n_rows, n_cols):\n",
    "    \"\"\"\n",
    "\n",
    "    Parameters:\n",
    "    - boxes: list of tuples (x_min, y_min, x_max, y_max)\n",
    "    - img_width: Image width\n",
    "    - img_height: Image height\n",
    "    - n_rows: number of grid rows\n",
    "    - n_cols: number of grid columns\n",
    "\n",
    "    Returns:\n",
    "    - grid: Matrix with counts of boxes in each cell\n",
    "    \"\"\"\n",
    "\n",
    "    # Calculate the width and height of each grid cell\n",
    "    cell_width = img_width / n_cols\n",
    "    cell_height = img_height / n_rows\n",
    "\n",
    "    # Initialize grid with zeros\n",
    "    grid = [[0 for _ in range(n_cols)] for _ in range(n_rows)]\n",
    "\n",
    "    # Iterate over each box\n",
    "    for x_min, y_min, x_max, y_max in boxes:\n",
    "        # Find the center of the box\n",
    "        center_x = (x_min + x_max) / 2\n",
    "        center_y = (y_min + y_max) / 2\n",
    "\n",
    "        # Determine which grid cell the center belongs to in image coordinates\n",
    "        col_idx = min(int(center_x // cell_width), n_cols - 1)\n",
    "        row_idx = min(int(center_y // cell_height), n_rows - 1)\n",
    "\n",
    "        # Count\n",
    "        grid[row_idx][col_idx] += 1\n",
    "\n",
    "    return grid"
   ]
  },
  {
   "cell_type": "code",
   "execution_count": 6,
   "id": "60afed72",
   "metadata": {},
   "outputs": [],
   "source": [
    "grid = assign_boxes_to_grid(boxes, img_width, img_height, n_rows, n_cols)"
   ]
  },
  {
   "cell_type": "code",
   "execution_count": 7,
   "id": "79f9b9a2",
   "metadata": {},
   "outputs": [
    {
     "data": {
      "text/plain": [
       "[[1, 0, 0, 0], [0, 1, 0, 0], [0, 0, 1, 0], [0, 0, 0, 1]]"
      ]
     },
     "execution_count": 7,
     "metadata": {},
     "output_type": "execute_result"
    }
   ],
   "source": [
    "grid"
   ]
  }
 ],
 "metadata": {
  "kernelspec": {
   "display_name": "Python 3",
   "language": "python",
   "name": "python3"
  },
  "language_info": {
   "codemirror_mode": {
    "name": "ipython",
    "version": 3
   },
   "file_extension": ".py",
   "mimetype": "text/x-python",
   "name": "python",
   "nbconvert_exporter": "python",
   "pygments_lexer": "ipython3",
   "version": "3.12.4"
  }
 },
 "nbformat": 4,
 "nbformat_minor": 5
}
